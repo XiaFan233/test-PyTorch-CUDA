{
 "cells": [
  {
   "cell_type": "code",
   "execution_count": 1,
   "metadata": {
    "pycharm": {
     "name": "#%%\n"
    }
   },
   "outputs": [],
   "source": [
    "import time\n",
    "import numpy as np\n",
    "import torch\n",
    "import torch.nn as nn\n",
    "\n",
    "\n",
    "gpu = torch.device(\"cuda:0\" if torch.cuda.is_available() else \"cpu\")"
   ]
  },
  {
   "cell_type": "code",
   "execution_count": 2,
   "metadata": {
    "pycharm": {
     "name": "#%%\n"
    }
   },
   "outputs": [],
   "source": [
    "def pytorch_cpu(size, flag=False):\n",
    "    a = np.random.rand(size, size)\n",
    "    b = np.random.rand(size, size)\n",
    "    a = torch.tensor(a)\n",
    "    b = torch.tensor(b)\n",
    "    start = time.perf_counter()\n",
    "    c = a @ b\n",
    "    end = time.perf_counter()\n",
    "    cost = end - start\n",
    "    if flag:\n",
    "        print(f\"CPU Elapsed time is {cost:.5f} s\")\n",
    "    return cost\n",
    "\n",
    "\n",
    "def pytorch_gpu(size, flag=False):\n",
    "    a = np.random.rand(size, size)\n",
    "    b = np.random.rand(size, size)\n",
    "    a = torch.tensor(a, device=gpu)\n",
    "    b = torch.tensor(b, device=gpu)\n",
    "    start = time.perf_counter()\n",
    "    c = a @ b\n",
    "    end = time.perf_counter()\n",
    "    cost = end - start\n",
    "    if flag:\n",
    "        print(f\"GPU Elapsed time is {cost:.5f} s\")\n",
    "    return cost"
   ]
  },
  {
   "cell_type": "code",
   "execution_count": 11,
   "metadata": {
    "pycharm": {
     "name": "#%%\n"
    }
   },
   "outputs": [
    {
     "name": "stdout",
     "output_type": "stream",
     "text": [
      "CPU Elapsed time is 1.50848 s\n",
      "GPU Elapsed time is 0.00030 s\n"
     ]
    }
   ],
   "source": [
    "size = 5000\n",
    "cost_cpu = 0\n",
    "cost_gpu = 0\n",
    "times = 5\n",
    "for i in range(0, times):\n",
    "    cost_cpu += pytorch_cpu(size)\n",
    "    cost_gpu += pytorch_gpu(size, True)\n",
    "cost_cpu /= times\n",
    "cost_gpu /= times\n",
    "print(f\"CPU Elapsed Average time is {cost_cpu:.5f} s\")\n",
    "print(f\"GPU Elapsed Average time is {cost_gpu:.5f} s\")"
   ]
  }
 ],
 "metadata": {
  "kernelspec": {
   "display_name": "Python 3.9.13 ('pytorch')",
   "language": "python",
   "name": "python3"
  },
  "language_info": {
   "codemirror_mode": {
    "name": "ipython",
    "version": 3
   },
   "file_extension": ".py",
   "mimetype": "text/x-python",
   "name": "python",
   "nbconvert_exporter": "python",
   "pygments_lexer": "ipython3",
   "version": "3.9.13"
  },
  "orig_nbformat": 4,
  "vscode": {
   "interpreter": {
    "hash": "fb375c856fd403df459ba9d952d8dc6c8c6aaad660e0f4c5fbef1a941ec019bb"
   }
  }
 },
 "nbformat": 4,
 "nbformat_minor": 2
}
