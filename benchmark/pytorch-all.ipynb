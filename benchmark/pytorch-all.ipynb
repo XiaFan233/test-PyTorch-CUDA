{
 "cells": [
  {
   "cell_type": "code",
   "execution_count": 1,
   "metadata": {
    "pycharm": {
     "name": "#%%\n"
    }
   },
   "outputs": [],
   "source": [
    "import time\n",
    "import numpy as np\n",
    "import torch\n",
    "import torch.nn as nn\n",
    "\n",
    "gpu = torch.device(\"cuda:0\" if torch.cuda.is_available() else \"cpu\")"
   ]
  },
  {
   "cell_type": "code",
   "execution_count": 2,
   "metadata": {
    "pycharm": {
     "name": "#%%\n"
    }
   },
   "outputs": [],
   "source": [
    "def pytorch_cpu(n):\n",
    "    a = np.random.rand(n, n)\n",
    "    b = np.random.rand(n, n)\n",
    "    a = torch.tensor(a)\n",
    "    b = torch.tensor(b)\n",
    "    start = time.perf_counter()\n",
    "    c = a @ b\n",
    "    end = time.perf_counter()\n",
    "    print(\"CPU Elapsed time is {:.5f} s\".format(end - start))\n",
    "    if n < 10:\n",
    "        print(c)\n",
    "\n",
    "def pytorch_gpu(n):\n",
    "    a = np.random.rand(n, n)\n",
    "    b = np.random.rand(n, n)\n",
    "    a = torch.tensor(a, device=gpu)\n",
    "    b = torch.tensor(b, device=gpu)\n",
    "    start = time.perf_counter()\n",
    "    c = a @ b\n",
    "    end = time.perf_counter()\n",
    "    print(\"GPU Elapsed time is {:.5f} s\".format(end - start))\n",
    "    if n < 10:\n",
    "        print(c)"
   ]
  },
  {
   "cell_type": "code",
   "execution_count": 11,
   "metadata": {
    "pycharm": {
     "name": "#%%\n"
    }
   },
   "outputs": [
    {
     "name": "stdout",
     "output_type": "stream",
     "text": [
      "CPU Elapsed time is 1.50848 s\n",
      "GPU Elapsed time is 0.00030 s\n"
     ]
    }
   ],
   "source": [
    "n = 5000\n",
    "pytorch_cpu(n)\n",
    "pytorch_gpu(n)"
   ]
  }
 ],
 "metadata": {
  "kernelspec": {
   "display_name": "Python 3.9.13 ('torch')",
   "language": "python",
   "name": "python3"
  },
  "language_info": {
   "codemirror_mode": {
    "name": "ipython",
    "version": 3
   },
   "file_extension": ".py",
   "mimetype": "text/x-python",
   "name": "python",
   "nbconvert_exporter": "python",
   "pygments_lexer": "ipython3",
   "version": "3.9.13"
  },
  "orig_nbformat": 4,
  "vscode": {
   "interpreter": {
    "hash": "9cf3041e6b17f8be34bec19037ee33fe6d5b13410dfdabd38dcb4cb1dedc6168"
   }
  }
 },
 "nbformat": 4,
 "nbformat_minor": 2
}